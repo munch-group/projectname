{
 "cells": [
  {
   "cell_type": "markdown",
   "metadata": {},
   "source": [
    "# Workplace interaction"
   ]
  },
  {
   "cell_type": "markdown",
   "metadata": {},
   "source": [
    "Import some plotting libraries and set some defaults:"
   ]
  },
  {
   "cell_type": "code",
   "execution_count": 1,
   "metadata": {
    "execution": {
     "iopub.execute_input": "2024-11-23T17:15:38.203219Z",
     "iopub.status.busy": "2024-11-23T17:15:38.202699Z",
     "iopub.status.idle": "2024-11-23T17:15:39.276109Z",
     "shell.execute_reply": "2024-11-23T17:15:39.275766Z"
    }
   },
   "outputs": [],
   "source": [
    "import sys\n",
    "import numpy as np\n",
    "import pandas as pd\n",
    "from IPython.display import display, Markdown\n",
    "import matplotlib.pyplot as plt\n",
    "import seaborn as sns\n",
    "sns.set()\n",
    "\n",
    "sns.set_context(context='paper', font_scale=0.8, rc=None)\n",
    "# sns.set_context(context='notebook', font_scale=1, rc=None)\n",
    "\n",
    "sns.set_style(\"ticks\", {\"axes.spines.top\": False, \n",
    "                        \"axes.spines.right\": False,\n",
    "                       \"legend.edgecolor\": 'white'})\n",
    "import random\n",
    "random_seed = 5\n",
    "\n",
    "sys.path.append('..')\n",
    "from global_params import load_params"
   ]
  },
  {
   "cell_type": "code",
   "execution_count": 2,
   "metadata": {
    "execution": {
     "iopub.execute_input": "2024-11-23T17:15:39.278697Z",
     "iopub.status.busy": "2024-11-23T17:15:39.278499Z",
     "iopub.status.idle": "2024-11-23T17:15:39.282471Z",
     "shell.execute_reply": "2024-11-23T17:15:39.282137Z"
    }
   },
   "outputs": [
    {
     "data": {
      "text/html": [
       "<style> table { font-variant-numeric: tabular-nums; } </style>\n"
      ],
      "text/plain": [
       "<IPython.core.display.HTML object>"
      ]
     },
     "metadata": {},
     "output_type": "display_data"
    }
   ],
   "source": [
    "%%html\n",
    "<style> table { font-variant-numeric: tabular-nums; } </style>"
   ]
  },
  {
   "cell_type": "markdown",
   "metadata": {},
   "source": [
    "> **Tip:**  \n",
    "> Producing figures in svg format (scalable vector graphics) makes for sharp plots on webpages. However, if you make plots with thousands of observations you should set this to `'png'` instead:"
   ]
  },
  {
   "cell_type": "code",
   "execution_count": 3,
   "metadata": {
    "execution": {
     "iopub.execute_input": "2024-11-23T17:15:39.305345Z",
     "iopub.status.busy": "2024-11-23T17:15:39.305124Z",
     "iopub.status.idle": "2024-11-23T17:15:39.308089Z",
     "shell.execute_reply": "2024-11-23T17:15:39.307665Z"
    }
   },
   "outputs": [],
   "source": [
    "%config InlineBackend.figure_formats = ['retina'] "
   ]
  },
  {
   "cell_type": "markdown",
   "metadata": {},
   "source": [
    "> **Tip:**  \n",
    "> Some values apply globally to your analysis. E.g., sample sizes, cutoffs, names, rates, etc. Keeping those in a a yml file like `interaction_params.yml` and loading them in each notebook avoids the risk of manually adding/updating them in each notebook where they are used. You can use the `load_globals` function imported above from `global_params.py` to produce an object holding all the global values:"
   ]
  },
  {
   "cell_type": "code",
   "execution_count": 4,
   "metadata": {
    "execution": {
     "iopub.execute_input": "2024-11-23T17:15:39.310182Z",
     "iopub.status.busy": "2024-11-23T17:15:39.310045Z",
     "iopub.status.idle": "2024-11-23T17:15:39.312986Z",
     "shell.execute_reply": "2024-11-23T17:15:39.312588Z"
    }
   },
   "outputs": [
    {
     "data": {
      "text/plain": [
       "{'sample_size': 24}"
      ]
     },
     "execution_count": 4,
     "metadata": {},
     "output_type": "execute_result"
    }
   ],
   "source": [
    "params = load_params('../global_params.yml')\n",
    "params"
   ]
  },
  {
   "cell_type": "code",
   "execution_count": 5,
   "metadata": {
    "execution": {
     "iopub.execute_input": "2024-11-23T17:15:39.314648Z",
     "iopub.status.busy": "2024-11-23T17:15:39.314524Z",
     "iopub.status.idle": "2024-11-23T17:15:39.316557Z",
     "shell.execute_reply": "2024-11-23T17:15:39.316279Z"
    }
   },
   "outputs": [
    {
     "data": {
      "text/plain": [
       "24"
      ]
     },
     "execution_count": 5,
     "metadata": {},
     "output_type": "execute_result"
    }
   ],
   "source": [
    "params.sample_size"
   ]
  },
  {
   "cell_type": "markdown",
   "metadata": {},
   "source": [
    "## Sampling"
   ]
  },
  {
   "cell_type": "code",
   "execution_count": 6,
   "metadata": {
    "execution": {
     "iopub.execute_input": "2024-11-23T17:15:39.318120Z",
     "iopub.status.busy": "2024-11-23T17:15:39.318005Z",
     "iopub.status.idle": "2024-11-23T17:15:39.325562Z",
     "shell.execute_reply": "2024-11-23T17:15:39.325310Z"
    }
   },
   "outputs": [
    {
     "data": {
      "text/html": [
       "<div>\n",
       "<style scoped>\n",
       "    .dataframe tbody tr th:only-of-type {\n",
       "        vertical-align: middle;\n",
       "    }\n",
       "\n",
       "    .dataframe tbody tr th {\n",
       "        vertical-align: top;\n",
       "    }\n",
       "\n",
       "    .dataframe thead th {\n",
       "        text-align: right;\n",
       "    }\n",
       "</style>\n",
       "<table border=\"1\" class=\"dataframe\">\n",
       "  <thead>\n",
       "    <tr style=\"text-align: right;\">\n",
       "      <th></th>\n",
       "      <th>name</th>\n",
       "      <th>age</th>\n",
       "      <th>sex</th>\n",
       "      <th>position</th>\n",
       "      <th>nationality</th>\n",
       "    </tr>\n",
       "  </thead>\n",
       "  <tbody>\n",
       "    <tr>\n",
       "      <th>0</th>\n",
       "      <td>Julie</td>\n",
       "      <td>27</td>\n",
       "      <td>F</td>\n",
       "      <td>PhDstudent</td>\n",
       "      <td>DK</td>\n",
       "    </tr>\n",
       "    <tr>\n",
       "      <th>1</th>\n",
       "      <td>Thomas</td>\n",
       "      <td>33</td>\n",
       "      <td>M</td>\n",
       "      <td>Postdoc</td>\n",
       "      <td>GB</td>\n",
       "    </tr>\n",
       "    <tr>\n",
       "      <th>2</th>\n",
       "      <td>Emilie</td>\n",
       "      <td>23</td>\n",
       "      <td>F</td>\n",
       "      <td>PhDstudent</td>\n",
       "      <td>CH</td>\n",
       "    </tr>\n",
       "    <tr>\n",
       "      <th>3</th>\n",
       "      <td>Sofie</td>\n",
       "      <td>31</td>\n",
       "      <td>F</td>\n",
       "      <td>Postdoc</td>\n",
       "      <td>DK</td>\n",
       "    </tr>\n",
       "    <tr>\n",
       "      <th>4</th>\n",
       "      <td>Sara</td>\n",
       "      <td>29</td>\n",
       "      <td>F</td>\n",
       "      <td>Postdoc</td>\n",
       "      <td>US</td>\n",
       "    </tr>\n",
       "    <tr>\n",
       "      <th>5</th>\n",
       "      <td>Cecilie</td>\n",
       "      <td>34</td>\n",
       "      <td>F</td>\n",
       "      <td>Postdoc</td>\n",
       "      <td>DK</td>\n",
       "    </tr>\n",
       "    <tr>\n",
       "      <th>6</th>\n",
       "      <td>Anders</td>\n",
       "      <td>32</td>\n",
       "      <td>M</td>\n",
       "      <td>PhDstudent</td>\n",
       "      <td>UK</td>\n",
       "    </tr>\n",
       "    <tr>\n",
       "      <th>7</th>\n",
       "      <td>Emma</td>\n",
       "      <td>42</td>\n",
       "      <td>F</td>\n",
       "      <td>Professor</td>\n",
       "      <td>DK</td>\n",
       "    </tr>\n",
       "    <tr>\n",
       "      <th>8</th>\n",
       "      <td>Caroline</td>\n",
       "      <td>31</td>\n",
       "      <td>F</td>\n",
       "      <td>PhDstudent</td>\n",
       "      <td>DK</td>\n",
       "    </tr>\n",
       "    <tr>\n",
       "      <th>9</th>\n",
       "      <td>Laura</td>\n",
       "      <td>30</td>\n",
       "      <td>F</td>\n",
       "      <td>Postdoc</td>\n",
       "      <td>DK</td>\n",
       "    </tr>\n",
       "    <tr>\n",
       "      <th>10</th>\n",
       "      <td>Mikkel</td>\n",
       "      <td>33</td>\n",
       "      <td>M</td>\n",
       "      <td>Postdoc</td>\n",
       "      <td>NL</td>\n",
       "    </tr>\n",
       "    <tr>\n",
       "      <th>11</th>\n",
       "      <td>Jens</td>\n",
       "      <td>27</td>\n",
       "      <td>M</td>\n",
       "      <td>PhDstudent</td>\n",
       "      <td>DK</td>\n",
       "    </tr>\n",
       "    <tr>\n",
       "      <th>12</th>\n",
       "      <td>Andreas</td>\n",
       "      <td>29</td>\n",
       "      <td>M</td>\n",
       "      <td>PhDstudent</td>\n",
       "      <td>DK</td>\n",
       "    </tr>\n",
       "    <tr>\n",
       "      <th>13</th>\n",
       "      <td>Jakob</td>\n",
       "      <td>28</td>\n",
       "      <td>M</td>\n",
       "      <td>PhDstudent</td>\n",
       "      <td>DK</td>\n",
       "    </tr>\n",
       "    <tr>\n",
       "      <th>14</th>\n",
       "      <td>Mathilde</td>\n",
       "      <td>61</td>\n",
       "      <td>F</td>\n",
       "      <td>Professor</td>\n",
       "      <td>DK</td>\n",
       "    </tr>\n",
       "    <tr>\n",
       "      <th>15</th>\n",
       "      <td>Katrine</td>\n",
       "      <td>35</td>\n",
       "      <td>F</td>\n",
       "      <td>Postdoc</td>\n",
       "      <td>DK</td>\n",
       "    </tr>\n",
       "    <tr>\n",
       "      <th>16</th>\n",
       "      <td>Poul</td>\n",
       "      <td>30</td>\n",
       "      <td>M</td>\n",
       "      <td>Postdoc</td>\n",
       "      <td>DK</td>\n",
       "    </tr>\n",
       "    <tr>\n",
       "      <th>17</th>\n",
       "      <td>Anna</td>\n",
       "      <td>26</td>\n",
       "      <td>F</td>\n",
       "      <td>PhDstudent</td>\n",
       "      <td>DK</td>\n",
       "    </tr>\n",
       "    <tr>\n",
       "      <th>18</th>\n",
       "      <td>Peter</td>\n",
       "      <td>42</td>\n",
       "      <td>M</td>\n",
       "      <td>Professor</td>\n",
       "      <td>GB</td>\n",
       "    </tr>\n",
       "    <tr>\n",
       "      <th>19</th>\n",
       "      <td>Ida</td>\n",
       "      <td>53</td>\n",
       "      <td>F</td>\n",
       "      <td>Postdoc</td>\n",
       "      <td>DK</td>\n",
       "    </tr>\n",
       "    <tr>\n",
       "      <th>20</th>\n",
       "      <td>Freja</td>\n",
       "      <td>30</td>\n",
       "      <td>F</td>\n",
       "      <td>Postdoc</td>\n",
       "      <td>DK</td>\n",
       "    </tr>\n",
       "    <tr>\n",
       "      <th>21</th>\n",
       "      <td>Maria</td>\n",
       "      <td>39</td>\n",
       "      <td>F</td>\n",
       "      <td>Professor</td>\n",
       "      <td>UK</td>\n",
       "    </tr>\n",
       "    <tr>\n",
       "      <th>22</th>\n",
       "      <td>Amalie</td>\n",
       "      <td>29</td>\n",
       "      <td>F</td>\n",
       "      <td>PhDstudent</td>\n",
       "      <td>DK</td>\n",
       "    </tr>\n",
       "    <tr>\n",
       "      <th>23</th>\n",
       "      <td>Camilla</td>\n",
       "      <td>35</td>\n",
       "      <td>F</td>\n",
       "      <td>Postdoc</td>\n",
       "      <td>DK</td>\n",
       "    </tr>\n",
       "  </tbody>\n",
       "</table>\n",
       "</div>"
      ],
      "text/plain": [
       "        name  age sex    position nationality\n",
       "0      Julie   27   F  PhDstudent          DK\n",
       "1     Thomas   33   M     Postdoc          GB\n",
       "2     Emilie   23   F  PhDstudent          CH\n",
       "3      Sofie   31   F     Postdoc          DK\n",
       "4       Sara   29   F     Postdoc          US\n",
       "5    Cecilie   34   F     Postdoc          DK\n",
       "6     Anders   32   M  PhDstudent          UK\n",
       "7       Emma   42   F   Professor          DK\n",
       "8   Caroline   31   F  PhDstudent          DK\n",
       "9      Laura   30   F     Postdoc          DK\n",
       "10    Mikkel   33   M     Postdoc          NL\n",
       "11      Jens   27   M  PhDstudent          DK\n",
       "12   Andreas   29   M  PhDstudent          DK\n",
       "13     Jakob   28   M  PhDstudent          DK\n",
       "14  Mathilde   61   F   Professor          DK\n",
       "15   Katrine   35   F     Postdoc          DK\n",
       "16      Poul   30   M     Postdoc          DK\n",
       "17      Anna   26   F  PhDstudent          DK\n",
       "18     Peter   42   M   Professor          GB\n",
       "19       Ida   53   F     Postdoc          DK\n",
       "20     Freja   30   F     Postdoc          DK\n",
       "21     Maria   39   F   Professor          UK\n",
       "22    Amalie   29   F  PhDstudent          DK\n",
       "23   Camilla   35   F     Postdoc          DK"
      ]
     },
     "execution_count": 6,
     "metadata": {},
     "output_type": "execute_result"
    }
   ],
   "source": [
    "subjects = pd.read_csv('../data/data_table.csv')\n",
    "assert subjects.index.size == params.sample_size\n",
    "subjects"
   ]
  },
  {
   "cell_type": "markdown",
   "metadata": {},
   "source": [
    "> **Tip:**  \n",
    "> By adding a label and caption to a cell displaying a table, you can refer to that table elsewhere and insert it in a manuscript."
   ]
  },
  {
   "cell_type": "code",
   "execution_count": 7,
   "metadata": {
    "execution": {
     "iopub.execute_input": "2024-11-23T17:15:39.327554Z",
     "iopub.status.busy": "2024-11-23T17:15:39.327345Z",
     "iopub.status.idle": "2024-11-23T17:15:39.360241Z",
     "shell.execute_reply": "2024-11-23T17:15:39.359944Z"
    }
   },
   "outputs": [
    {
     "data": {
      "text/html": [
       "<style type=\"text/css\">\n",
       "</style>\n",
       "<table id=\"T_41cb9\">\n",
       "  <thead>\n",
       "    <tr>\n",
       "      <th id=\"T_41cb9_level0_col0\" class=\"col_heading level0 col0\" >name</th>\n",
       "      <th id=\"T_41cb9_level0_col1\" class=\"col_heading level0 col1\" >age</th>\n",
       "      <th id=\"T_41cb9_level0_col2\" class=\"col_heading level0 col2\" >sex</th>\n",
       "      <th id=\"T_41cb9_level0_col3\" class=\"col_heading level0 col3\" >position</th>\n",
       "      <th id=\"T_41cb9_level0_col4\" class=\"col_heading level0 col4\" >nationality</th>\n",
       "    </tr>\n",
       "  </thead>\n",
       "  <tbody>\n",
       "    <tr>\n",
       "      <td id=\"T_41cb9_row0_col0\" class=\"data row0 col0\" >Julie</td>\n",
       "      <td id=\"T_41cb9_row0_col1\" class=\"data row0 col1\" >27</td>\n",
       "      <td id=\"T_41cb9_row0_col2\" class=\"data row0 col2\" >F</td>\n",
       "      <td id=\"T_41cb9_row0_col3\" class=\"data row0 col3\" >PhDstudent</td>\n",
       "      <td id=\"T_41cb9_row0_col4\" class=\"data row0 col4\" >DK</td>\n",
       "    </tr>\n",
       "    <tr>\n",
       "      <td id=\"T_41cb9_row1_col0\" class=\"data row1 col0\" >Thomas</td>\n",
       "      <td id=\"T_41cb9_row1_col1\" class=\"data row1 col1\" >33</td>\n",
       "      <td id=\"T_41cb9_row1_col2\" class=\"data row1 col2\" >M</td>\n",
       "      <td id=\"T_41cb9_row1_col3\" class=\"data row1 col3\" >Postdoc</td>\n",
       "      <td id=\"T_41cb9_row1_col4\" class=\"data row1 col4\" >GB</td>\n",
       "    </tr>\n",
       "    <tr>\n",
       "      <td id=\"T_41cb9_row2_col0\" class=\"data row2 col0\" >Emilie</td>\n",
       "      <td id=\"T_41cb9_row2_col1\" class=\"data row2 col1\" >23</td>\n",
       "      <td id=\"T_41cb9_row2_col2\" class=\"data row2 col2\" >F</td>\n",
       "      <td id=\"T_41cb9_row2_col3\" class=\"data row2 col3\" >PhDstudent</td>\n",
       "      <td id=\"T_41cb9_row2_col4\" class=\"data row2 col4\" >CH</td>\n",
       "    </tr>\n",
       "    <tr>\n",
       "      <td id=\"T_41cb9_row3_col0\" class=\"data row3 col0\" >Sofie</td>\n",
       "      <td id=\"T_41cb9_row3_col1\" class=\"data row3 col1\" >31</td>\n",
       "      <td id=\"T_41cb9_row3_col2\" class=\"data row3 col2\" >F</td>\n",
       "      <td id=\"T_41cb9_row3_col3\" class=\"data row3 col3\" >Postdoc</td>\n",
       "      <td id=\"T_41cb9_row3_col4\" class=\"data row3 col4\" >DK</td>\n",
       "    </tr>\n",
       "    <tr>\n",
       "      <td id=\"T_41cb9_row4_col0\" class=\"data row4 col0\" >Sara</td>\n",
       "      <td id=\"T_41cb9_row4_col1\" class=\"data row4 col1\" >29</td>\n",
       "      <td id=\"T_41cb9_row4_col2\" class=\"data row4 col2\" >F</td>\n",
       "      <td id=\"T_41cb9_row4_col3\" class=\"data row4 col3\" >Postdoc</td>\n",
       "      <td id=\"T_41cb9_row4_col4\" class=\"data row4 col4\" >US</td>\n",
       "    </tr>\n",
       "    <tr>\n",
       "      <td id=\"T_41cb9_row5_col0\" class=\"data row5 col0\" >Cecilie</td>\n",
       "      <td id=\"T_41cb9_row5_col1\" class=\"data row5 col1\" >34</td>\n",
       "      <td id=\"T_41cb9_row5_col2\" class=\"data row5 col2\" >F</td>\n",
       "      <td id=\"T_41cb9_row5_col3\" class=\"data row5 col3\" >Postdoc</td>\n",
       "      <td id=\"T_41cb9_row5_col4\" class=\"data row5 col4\" >DK</td>\n",
       "    </tr>\n",
       "    <tr>\n",
       "      <td id=\"T_41cb9_row6_col0\" class=\"data row6 col0\" >Anders</td>\n",
       "      <td id=\"T_41cb9_row6_col1\" class=\"data row6 col1\" >32</td>\n",
       "      <td id=\"T_41cb9_row6_col2\" class=\"data row6 col2\" >M</td>\n",
       "      <td id=\"T_41cb9_row6_col3\" class=\"data row6 col3\" >PhDstudent</td>\n",
       "      <td id=\"T_41cb9_row6_col4\" class=\"data row6 col4\" >UK</td>\n",
       "    </tr>\n",
       "    <tr>\n",
       "      <td id=\"T_41cb9_row7_col0\" class=\"data row7 col0\" >Emma</td>\n",
       "      <td id=\"T_41cb9_row7_col1\" class=\"data row7 col1\" >42</td>\n",
       "      <td id=\"T_41cb9_row7_col2\" class=\"data row7 col2\" >F</td>\n",
       "      <td id=\"T_41cb9_row7_col3\" class=\"data row7 col3\" >Professor</td>\n",
       "      <td id=\"T_41cb9_row7_col4\" class=\"data row7 col4\" >DK</td>\n",
       "    </tr>\n",
       "    <tr>\n",
       "      <td id=\"T_41cb9_row8_col0\" class=\"data row8 col0\" >Caroline</td>\n",
       "      <td id=\"T_41cb9_row8_col1\" class=\"data row8 col1\" >31</td>\n",
       "      <td id=\"T_41cb9_row8_col2\" class=\"data row8 col2\" >F</td>\n",
       "      <td id=\"T_41cb9_row8_col3\" class=\"data row8 col3\" >PhDstudent</td>\n",
       "      <td id=\"T_41cb9_row8_col4\" class=\"data row8 col4\" >DK</td>\n",
       "    </tr>\n",
       "    <tr>\n",
       "      <td id=\"T_41cb9_row9_col0\" class=\"data row9 col0\" >Laura</td>\n",
       "      <td id=\"T_41cb9_row9_col1\" class=\"data row9 col1\" >30</td>\n",
       "      <td id=\"T_41cb9_row9_col2\" class=\"data row9 col2\" >F</td>\n",
       "      <td id=\"T_41cb9_row9_col3\" class=\"data row9 col3\" >Postdoc</td>\n",
       "      <td id=\"T_41cb9_row9_col4\" class=\"data row9 col4\" >DK</td>\n",
       "    </tr>\n",
       "    <tr>\n",
       "      <td id=\"T_41cb9_row10_col0\" class=\"data row10 col0\" >Mikkel</td>\n",
       "      <td id=\"T_41cb9_row10_col1\" class=\"data row10 col1\" >33</td>\n",
       "      <td id=\"T_41cb9_row10_col2\" class=\"data row10 col2\" >M</td>\n",
       "      <td id=\"T_41cb9_row10_col3\" class=\"data row10 col3\" >Postdoc</td>\n",
       "      <td id=\"T_41cb9_row10_col4\" class=\"data row10 col4\" >NL</td>\n",
       "    </tr>\n",
       "    <tr>\n",
       "      <td id=\"T_41cb9_row11_col0\" class=\"data row11 col0\" >Jens</td>\n",
       "      <td id=\"T_41cb9_row11_col1\" class=\"data row11 col1\" >27</td>\n",
       "      <td id=\"T_41cb9_row11_col2\" class=\"data row11 col2\" >M</td>\n",
       "      <td id=\"T_41cb9_row11_col3\" class=\"data row11 col3\" >PhDstudent</td>\n",
       "      <td id=\"T_41cb9_row11_col4\" class=\"data row11 col4\" >DK</td>\n",
       "    </tr>\n",
       "    <tr>\n",
       "      <td id=\"T_41cb9_row12_col0\" class=\"data row12 col0\" >Andreas</td>\n",
       "      <td id=\"T_41cb9_row12_col1\" class=\"data row12 col1\" >29</td>\n",
       "      <td id=\"T_41cb9_row12_col2\" class=\"data row12 col2\" >M</td>\n",
       "      <td id=\"T_41cb9_row12_col3\" class=\"data row12 col3\" >PhDstudent</td>\n",
       "      <td id=\"T_41cb9_row12_col4\" class=\"data row12 col4\" >DK</td>\n",
       "    </tr>\n",
       "    <tr>\n",
       "      <td id=\"T_41cb9_row13_col0\" class=\"data row13 col0\" >Jakob</td>\n",
       "      <td id=\"T_41cb9_row13_col1\" class=\"data row13 col1\" >28</td>\n",
       "      <td id=\"T_41cb9_row13_col2\" class=\"data row13 col2\" >M</td>\n",
       "      <td id=\"T_41cb9_row13_col3\" class=\"data row13 col3\" >PhDstudent</td>\n",
       "      <td id=\"T_41cb9_row13_col4\" class=\"data row13 col4\" >DK</td>\n",
       "    </tr>\n",
       "    <tr>\n",
       "      <td id=\"T_41cb9_row14_col0\" class=\"data row14 col0\" >Mathilde</td>\n",
       "      <td id=\"T_41cb9_row14_col1\" class=\"data row14 col1\" >61</td>\n",
       "      <td id=\"T_41cb9_row14_col2\" class=\"data row14 col2\" >F</td>\n",
       "      <td id=\"T_41cb9_row14_col3\" class=\"data row14 col3\" >Professor</td>\n",
       "      <td id=\"T_41cb9_row14_col4\" class=\"data row14 col4\" >DK</td>\n",
       "    </tr>\n",
       "    <tr>\n",
       "      <td id=\"T_41cb9_row15_col0\" class=\"data row15 col0\" >Katrine</td>\n",
       "      <td id=\"T_41cb9_row15_col1\" class=\"data row15 col1\" >35</td>\n",
       "      <td id=\"T_41cb9_row15_col2\" class=\"data row15 col2\" >F</td>\n",
       "      <td id=\"T_41cb9_row15_col3\" class=\"data row15 col3\" >Postdoc</td>\n",
       "      <td id=\"T_41cb9_row15_col4\" class=\"data row15 col4\" >DK</td>\n",
       "    </tr>\n",
       "    <tr>\n",
       "      <td id=\"T_41cb9_row16_col0\" class=\"data row16 col0\" >Poul</td>\n",
       "      <td id=\"T_41cb9_row16_col1\" class=\"data row16 col1\" >30</td>\n",
       "      <td id=\"T_41cb9_row16_col2\" class=\"data row16 col2\" >M</td>\n",
       "      <td id=\"T_41cb9_row16_col3\" class=\"data row16 col3\" >Postdoc</td>\n",
       "      <td id=\"T_41cb9_row16_col4\" class=\"data row16 col4\" >DK</td>\n",
       "    </tr>\n",
       "    <tr>\n",
       "      <td id=\"T_41cb9_row17_col0\" class=\"data row17 col0\" >Anna</td>\n",
       "      <td id=\"T_41cb9_row17_col1\" class=\"data row17 col1\" >26</td>\n",
       "      <td id=\"T_41cb9_row17_col2\" class=\"data row17 col2\" >F</td>\n",
       "      <td id=\"T_41cb9_row17_col3\" class=\"data row17 col3\" >PhDstudent</td>\n",
       "      <td id=\"T_41cb9_row17_col4\" class=\"data row17 col4\" >DK</td>\n",
       "    </tr>\n",
       "    <tr>\n",
       "      <td id=\"T_41cb9_row18_col0\" class=\"data row18 col0\" >Peter</td>\n",
       "      <td id=\"T_41cb9_row18_col1\" class=\"data row18 col1\" >42</td>\n",
       "      <td id=\"T_41cb9_row18_col2\" class=\"data row18 col2\" >M</td>\n",
       "      <td id=\"T_41cb9_row18_col3\" class=\"data row18 col3\" >Professor</td>\n",
       "      <td id=\"T_41cb9_row18_col4\" class=\"data row18 col4\" >GB</td>\n",
       "    </tr>\n",
       "    <tr>\n",
       "      <td id=\"T_41cb9_row19_col0\" class=\"data row19 col0\" >Ida</td>\n",
       "      <td id=\"T_41cb9_row19_col1\" class=\"data row19 col1\" >53</td>\n",
       "      <td id=\"T_41cb9_row19_col2\" class=\"data row19 col2\" >F</td>\n",
       "      <td id=\"T_41cb9_row19_col3\" class=\"data row19 col3\" >Postdoc</td>\n",
       "      <td id=\"T_41cb9_row19_col4\" class=\"data row19 col4\" >DK</td>\n",
       "    </tr>\n",
       "    <tr>\n",
       "      <td id=\"T_41cb9_row20_col0\" class=\"data row20 col0\" >Freja</td>\n",
       "      <td id=\"T_41cb9_row20_col1\" class=\"data row20 col1\" >30</td>\n",
       "      <td id=\"T_41cb9_row20_col2\" class=\"data row20 col2\" >F</td>\n",
       "      <td id=\"T_41cb9_row20_col3\" class=\"data row20 col3\" >Postdoc</td>\n",
       "      <td id=\"T_41cb9_row20_col4\" class=\"data row20 col4\" >DK</td>\n",
       "    </tr>\n",
       "    <tr>\n",
       "      <td id=\"T_41cb9_row21_col0\" class=\"data row21 col0\" >Maria</td>\n",
       "      <td id=\"T_41cb9_row21_col1\" class=\"data row21 col1\" >39</td>\n",
       "      <td id=\"T_41cb9_row21_col2\" class=\"data row21 col2\" >F</td>\n",
       "      <td id=\"T_41cb9_row21_col3\" class=\"data row21 col3\" >Professor</td>\n",
       "      <td id=\"T_41cb9_row21_col4\" class=\"data row21 col4\" >UK</td>\n",
       "    </tr>\n",
       "    <tr>\n",
       "      <td id=\"T_41cb9_row22_col0\" class=\"data row22 col0\" >Amalie</td>\n",
       "      <td id=\"T_41cb9_row22_col1\" class=\"data row22 col1\" >29</td>\n",
       "      <td id=\"T_41cb9_row22_col2\" class=\"data row22 col2\" >F</td>\n",
       "      <td id=\"T_41cb9_row22_col3\" class=\"data row22 col3\" >PhDstudent</td>\n",
       "      <td id=\"T_41cb9_row22_col4\" class=\"data row22 col4\" >DK</td>\n",
       "    </tr>\n",
       "    <tr>\n",
       "      <td id=\"T_41cb9_row23_col0\" class=\"data row23 col0\" >Camilla</td>\n",
       "      <td id=\"T_41cb9_row23_col1\" class=\"data row23 col1\" >35</td>\n",
       "      <td id=\"T_41cb9_row23_col2\" class=\"data row23 col2\" >F</td>\n",
       "      <td id=\"T_41cb9_row23_col3\" class=\"data row23 col3\" >Postdoc</td>\n",
       "      <td id=\"T_41cb9_row23_col4\" class=\"data row23 col4\" >DK</td>\n",
       "    </tr>\n",
       "  </tbody>\n",
       "</table>\n"
      ],
      "text/plain": [
       "<pandas.io.formats.style.Styler at 0x126a94620>"
      ]
     },
     "metadata": {},
     "output_type": "display_data"
    }
   ],
   "source": [
    "#| label: tbl-subjects\n",
    "#| tbl-cap: \"People included in the analysis.\"\n",
    "with pd.option_context('display.max_rows', None,): # prints *all* rows\n",
    "    display(subjects.style.hide()) # .style.hide() hides the index)"
   ]
  },
  {
   "cell_type": "markdown",
   "metadata": {},
   "source": [
    "> **Tip:**  \n",
    "> By generaing markdown for descriptions that will eventually end up in the manuscript, you can imbed python values. It also ensures that the manuscript exactly reflects the notebook."
   ]
  },
  {
   "cell_type": "code",
   "execution_count": 8,
   "metadata": {
    "execution": {
     "iopub.execute_input": "2024-11-23T17:15:39.361924Z",
     "iopub.status.busy": "2024-11-23T17:15:39.361781Z",
     "iopub.status.idle": "2024-11-23T17:15:39.364278Z",
     "shell.execute_reply": "2024-11-23T17:15:39.364030Z"
    }
   },
   "outputs": [
    {
     "data": {
      "text/markdown": [
       "\n",
       "\n",
       "The 24 subjects from workplaces in Denmark were interviewed .... blah blah \n",
       "blah blah blah blah blah blah blah blah blah blah blah blah blah blah blah blah blah \n",
       "blah blah blah blah blah blah blah blah blah blah blah blah blah blah blah blah blah \n"
      ],
      "text/plain": [
       "<IPython.core.display.Markdown object>"
      ]
     },
     "execution_count": 8,
     "metadata": {},
     "output_type": "execute_result"
    }
   ],
   "source": [
    "#| echo: false\n",
    "#| label: doc-sampling\n",
    "Markdown(f\"\"\"\n",
    "\n",
    "The {params.sample_size} subjects from workplaces in Denmark were interviewed .... blah blah \n",
    "blah blah blah blah blah blah blah blah blah blah blah blah blah blah blah blah blah \n",
    "blah blah blah blah blah blah blah blah blah blah blah blah blah blah blah blah blah \n",
    "\"\"\")"
   ]
  },
  {
   "cell_type": "markdown",
   "metadata": {},
   "source": [
    "## Interviews"
   ]
  },
  {
   "cell_type": "markdown",
   "metadata": {},
   "source": [
    "In interviewed `{python} params.sample_size` workplace individuals were interviewed by .... blah, blah, blah, blah, blah, blah, blah, blah, blah, blah, blah, blah, blah, blah, \n",
    "blah, blah, blah, blah, blah, blah, blah, blah, blah, blah, blah, blah, blah, blah, "
   ]
  },
  {
   "cell_type": "code",
   "execution_count": 9,
   "metadata": {
    "execution": {
     "iopub.execute_input": "2024-11-23T17:15:39.365836Z",
     "iopub.status.busy": "2024-11-23T17:15:39.365733Z",
     "iopub.status.idle": "2024-11-23T17:15:39.371973Z",
     "shell.execute_reply": "2024-11-23T17:15:39.371659Z"
    }
   },
   "outputs": [
    {
     "data": {
      "text/html": [
       "<div>\n",
       "<style scoped>\n",
       "    .dataframe tbody tr th:only-of-type {\n",
       "        vertical-align: middle;\n",
       "    }\n",
       "\n",
       "    .dataframe tbody tr th {\n",
       "        vertical-align: top;\n",
       "    }\n",
       "\n",
       "    .dataframe thead th {\n",
       "        text-align: right;\n",
       "    }\n",
       "</style>\n",
       "<table border=\"1\" class=\"dataframe\">\n",
       "  <thead>\n",
       "    <tr style=\"text-align: right;\">\n",
       "      <th></th>\n",
       "      <th>name</th>\n",
       "      <th>age</th>\n",
       "      <th>sex</th>\n",
       "      <th>position</th>\n",
       "      <th>nationality</th>\n",
       "      <th>informality</th>\n",
       "    </tr>\n",
       "  </thead>\n",
       "  <tbody>\n",
       "    <tr>\n",
       "      <th>0</th>\n",
       "      <td>Julie</td>\n",
       "      <td>27</td>\n",
       "      <td>F</td>\n",
       "      <td>PhDstudent</td>\n",
       "      <td>DK</td>\n",
       "      <td>10.611754</td>\n",
       "    </tr>\n",
       "    <tr>\n",
       "      <th>1</th>\n",
       "      <td>Thomas</td>\n",
       "      <td>33</td>\n",
       "      <td>M</td>\n",
       "      <td>Postdoc</td>\n",
       "      <td>GB</td>\n",
       "      <td>9.949350</td>\n",
       "    </tr>\n",
       "    <tr>\n",
       "      <th>2</th>\n",
       "      <td>Emilie</td>\n",
       "      <td>23</td>\n",
       "      <td>F</td>\n",
       "      <td>PhDstudent</td>\n",
       "      <td>CH</td>\n",
       "      <td>10.751572</td>\n",
       "    </tr>\n",
       "    <tr>\n",
       "      <th>3</th>\n",
       "      <td>Sofie</td>\n",
       "      <td>31</td>\n",
       "      <td>F</td>\n",
       "      <td>Postdoc</td>\n",
       "      <td>DK</td>\n",
       "      <td>9.499484</td>\n",
       "    </tr>\n",
       "    <tr>\n",
       "      <th>4</th>\n",
       "      <td>Sara</td>\n",
       "      <td>29</td>\n",
       "      <td>F</td>\n",
       "      <td>Postdoc</td>\n",
       "      <td>US</td>\n",
       "      <td>10.366486</td>\n",
       "    </tr>\n",
       "    <tr>\n",
       "      <th>5</th>\n",
       "      <td>Cecilie</td>\n",
       "      <td>34</td>\n",
       "      <td>F</td>\n",
       "      <td>Postdoc</td>\n",
       "      <td>DK</td>\n",
       "      <td>10.189567</td>\n",
       "    </tr>\n",
       "    <tr>\n",
       "      <th>6</th>\n",
       "      <td>Anders</td>\n",
       "      <td>32</td>\n",
       "      <td>M</td>\n",
       "      <td>PhDstudent</td>\n",
       "      <td>UK</td>\n",
       "      <td>11.322927</td>\n",
       "    </tr>\n",
       "    <tr>\n",
       "      <th>7</th>\n",
       "      <td>Emma</td>\n",
       "      <td>42</td>\n",
       "      <td>F</td>\n",
       "      <td>Professor</td>\n",
       "      <td>DK</td>\n",
       "      <td>12.349384</td>\n",
       "    </tr>\n",
       "    <tr>\n",
       "      <th>8</th>\n",
       "      <td>Caroline</td>\n",
       "      <td>31</td>\n",
       "      <td>F</td>\n",
       "      <td>PhDstudent</td>\n",
       "      <td>DK</td>\n",
       "      <td>9.431608</td>\n",
       "    </tr>\n",
       "    <tr>\n",
       "      <th>9</th>\n",
       "      <td>Laura</td>\n",
       "      <td>30</td>\n",
       "      <td>F</td>\n",
       "      <td>Postdoc</td>\n",
       "      <td>DK</td>\n",
       "      <td>9.691858</td>\n",
       "    </tr>\n",
       "    <tr>\n",
       "      <th>10</th>\n",
       "      <td>Mikkel</td>\n",
       "      <td>33</td>\n",
       "      <td>M</td>\n",
       "      <td>Postdoc</td>\n",
       "      <td>NL</td>\n",
       "      <td>11.244057</td>\n",
       "    </tr>\n",
       "    <tr>\n",
       "      <th>11</th>\n",
       "      <td>Jens</td>\n",
       "      <td>27</td>\n",
       "      <td>M</td>\n",
       "      <td>PhDstudent</td>\n",
       "      <td>DK</td>\n",
       "      <td>10.988670</td>\n",
       "    </tr>\n",
       "    <tr>\n",
       "      <th>12</th>\n",
       "      <td>Andreas</td>\n",
       "      <td>29</td>\n",
       "      <td>M</td>\n",
       "      <td>PhDstudent</td>\n",
       "      <td>DK</td>\n",
       "      <td>10.901916</td>\n",
       "    </tr>\n",
       "    <tr>\n",
       "      <th>13</th>\n",
       "      <td>Jakob</td>\n",
       "      <td>28</td>\n",
       "      <td>M</td>\n",
       "      <td>PhDstudent</td>\n",
       "      <td>DK</td>\n",
       "      <td>11.367978</td>\n",
       "    </tr>\n",
       "    <tr>\n",
       "      <th>14</th>\n",
       "      <td>Mathilde</td>\n",
       "      <td>61</td>\n",
       "      <td>F</td>\n",
       "      <td>Professor</td>\n",
       "      <td>DK</td>\n",
       "      <td>12.452551</td>\n",
       "    </tr>\n",
       "    <tr>\n",
       "      <th>15</th>\n",
       "      <td>Katrine</td>\n",
       "      <td>35</td>\n",
       "      <td>F</td>\n",
       "      <td>Postdoc</td>\n",
       "      <td>DK</td>\n",
       "      <td>11.054535</td>\n",
       "    </tr>\n",
       "    <tr>\n",
       "      <th>16</th>\n",
       "      <td>Poul</td>\n",
       "      <td>30</td>\n",
       "      <td>M</td>\n",
       "      <td>Postdoc</td>\n",
       "      <td>DK</td>\n",
       "      <td>10.794425</td>\n",
       "    </tr>\n",
       "    <tr>\n",
       "      <th>17</th>\n",
       "      <td>Anna</td>\n",
       "      <td>26</td>\n",
       "      <td>F</td>\n",
       "      <td>PhDstudent</td>\n",
       "      <td>DK</td>\n",
       "      <td>9.561832</td>\n",
       "    </tr>\n",
       "    <tr>\n",
       "      <th>18</th>\n",
       "      <td>Peter</td>\n",
       "      <td>42</td>\n",
       "      <td>M</td>\n",
       "      <td>Professor</td>\n",
       "      <td>GB</td>\n",
       "      <td>8.086033</td>\n",
       "    </tr>\n",
       "    <tr>\n",
       "      <th>19</th>\n",
       "      <td>Ida</td>\n",
       "      <td>53</td>\n",
       "      <td>F</td>\n",
       "      <td>Postdoc</td>\n",
       "      <td>DK</td>\n",
       "      <td>9.758800</td>\n",
       "    </tr>\n",
       "    <tr>\n",
       "      <th>20</th>\n",
       "      <td>Freja</td>\n",
       "      <td>30</td>\n",
       "      <td>F</td>\n",
       "      <td>Postdoc</td>\n",
       "      <td>DK</td>\n",
       "      <td>9.390783</td>\n",
       "    </tr>\n",
       "    <tr>\n",
       "      <th>21</th>\n",
       "      <td>Maria</td>\n",
       "      <td>39</td>\n",
       "      <td>F</td>\n",
       "      <td>Professor</td>\n",
       "      <td>UK</td>\n",
       "      <td>9.590511</td>\n",
       "    </tr>\n",
       "    <tr>\n",
       "      <th>22</th>\n",
       "      <td>Amalie</td>\n",
       "      <td>29</td>\n",
       "      <td>F</td>\n",
       "      <td>PhDstudent</td>\n",
       "      <td>DK</td>\n",
       "      <td>11.395812</td>\n",
       "    </tr>\n",
       "    <tr>\n",
       "      <th>23</th>\n",
       "      <td>Camilla</td>\n",
       "      <td>35</td>\n",
       "      <td>F</td>\n",
       "      <td>Postdoc</td>\n",
       "      <td>DK</td>\n",
       "      <td>8.662864</td>\n",
       "    </tr>\n",
       "  </tbody>\n",
       "</table>\n",
       "</div>"
      ],
      "text/plain": [
       "        name  age sex    position nationality  informality\n",
       "0      Julie   27   F  PhDstudent          DK    10.611754\n",
       "1     Thomas   33   M     Postdoc          GB     9.949350\n",
       "2     Emilie   23   F  PhDstudent          CH    10.751572\n",
       "3      Sofie   31   F     Postdoc          DK     9.499484\n",
       "4       Sara   29   F     Postdoc          US    10.366486\n",
       "5    Cecilie   34   F     Postdoc          DK    10.189567\n",
       "6     Anders   32   M  PhDstudent          UK    11.322927\n",
       "7       Emma   42   F   Professor          DK    12.349384\n",
       "8   Caroline   31   F  PhDstudent          DK     9.431608\n",
       "9      Laura   30   F     Postdoc          DK     9.691858\n",
       "10    Mikkel   33   M     Postdoc          NL    11.244057\n",
       "11      Jens   27   M  PhDstudent          DK    10.988670\n",
       "12   Andreas   29   M  PhDstudent          DK    10.901916\n",
       "13     Jakob   28   M  PhDstudent          DK    11.367978\n",
       "14  Mathilde   61   F   Professor          DK    12.452551\n",
       "15   Katrine   35   F     Postdoc          DK    11.054535\n",
       "16      Poul   30   M     Postdoc          DK    10.794425\n",
       "17      Anna   26   F  PhDstudent          DK     9.561832\n",
       "18     Peter   42   M   Professor          GB     8.086033\n",
       "19       Ida   53   F     Postdoc          DK     9.758800\n",
       "20     Freja   30   F     Postdoc          DK     9.390783\n",
       "21     Maria   39   F   Professor          UK     9.590511\n",
       "22    Amalie   29   F  PhDstudent          DK    11.395812\n",
       "23   Camilla   35   F     Postdoc          DK     8.662864"
      ]
     },
     "execution_count": 9,
     "metadata": {},
     "output_type": "execute_result"
    }
   ],
   "source": [
    "# generate some random sample data\n",
    "scores = pd.DataFrame({\n",
    "    'name': subjects.name, \n",
    "    'informality': np.random.normal(loc=10, scale=1, size=params.sample_size)\n",
    "})\n",
    "data = pd.merge(subjects, scores, on='name')\n",
    "data"
   ]
  },
  {
   "cell_type": "code",
   "execution_count": 10,
   "metadata": {
    "execution": {
     "iopub.execute_input": "2024-11-23T17:15:39.373535Z",
     "iopub.status.busy": "2024-11-23T17:15:39.373416Z",
     "iopub.status.idle": "2024-11-23T17:15:39.467342Z",
     "shell.execute_reply": "2024-11-23T17:15:39.466882Z"
    }
   },
   "outputs": [
    {
     "data": {
      "text/plain": [
       "(0.0, 12.670877445295655)"
      ]
     },
     "execution_count": 10,
     "metadata": {},
     "output_type": "execute_result"
    },
    {
     "data": {
      "image/png": "[encoded data removed]",
      "text/plain": [
       "<Figure size 400x300 with 1 Axes>"
      ]
     },
     "metadata": {
      "image/png": {
       "height": 286,
       "width": 367
      }
     },
     "output_type": "display_data"
    }
   ],
   "source": [
    "#| label: fig-danish-interaction\n",
    "#| fig-cap: \"Interaction among Danes: How Danes interact is has very little to do with age and seniority, compared to most other contries.\"\n",
    "\n",
    "plt.figure(figsize=(4,3))\n",
    "sns.scatterplot(x='age', y='informality', data=data, hue='position', palette='viridis')\n",
    "plt.ylabel('How informal you can be')\n",
    "plt.xlabel('Age')\n",
    "plt.legend(title='Seniority', loc='lower right')\n",
    "plt.ylim(bottom=0)"
   ]
  },
  {
   "cell_type": "markdown",
   "metadata": {},
   "source": [
    "Seems Danish people act very informally unaffected by age and seniority."
   ]
  },
  {
   "cell_type": "code",
   "execution_count": 11,
   "metadata": {
    "execution": {
     "iopub.execute_input": "2024-11-23T17:15:39.469028Z",
     "iopub.status.busy": "2024-11-23T17:15:39.468928Z",
     "iopub.status.idle": "2024-11-23T17:15:39.471763Z",
     "shell.execute_reply": "2024-11-23T17:15:39.471442Z"
    }
   },
   "outputs": [
    {
     "data": {
      "text/plain": [
       "0.13107350528616485"
      ]
     },
     "execution_count": 11,
     "metadata": {},
     "output_type": "execute_result"
    }
   ],
   "source": [
    "informality_age_cor = data.informality.corr(data.age)\n",
    "informality_age_cor"
   ]
  },
  {
   "cell_type": "code",
   "execution_count": 12,
   "metadata": {
    "execution": {
     "iopub.execute_input": "2024-11-23T17:15:39.473282Z",
     "iopub.status.busy": "2024-11-23T17:15:39.473186Z",
     "iopub.status.idle": "2024-11-23T17:15:39.478455Z",
     "shell.execute_reply": "2024-11-23T17:15:39.478057Z"
    }
   },
   "outputs": [
    {
     "data": {
      "text/html": [
       "<style type=\"text/css\">\n",
       "</style>\n",
       "<table id=\"T_42276\">\n",
       "  <thead>\n",
       "    <tr>\n",
       "      <th id=\"T_42276_level0_col0\" class=\"col_heading level0 col0\" >position</th>\n",
       "      <th id=\"T_42276_level0_col1\" class=\"col_heading level0 col1\" >nationality</th>\n",
       "      <th id=\"T_42276_level0_col2\" class=\"col_heading level0 col2\" >informality</th>\n",
       "    </tr>\n",
       "  </thead>\n",
       "  <tbody>\n",
       "    <tr>\n",
       "      <td id=\"T_42276_row0_col0\" class=\"data row0 col0\" >Professor</td>\n",
       "      <td id=\"T_42276_row0_col1\" class=\"data row0 col1\" >GB</td>\n",
       "      <td id=\"T_42276_row0_col2\" class=\"data row0 col2\" >8.086033</td>\n",
       "    </tr>\n",
       "    <tr>\n",
       "      <td id=\"T_42276_row1_col0\" class=\"data row1 col0\" >Professor</td>\n",
       "      <td id=\"T_42276_row1_col1\" class=\"data row1 col1\" >UK</td>\n",
       "      <td id=\"T_42276_row1_col2\" class=\"data row1 col2\" >9.590511</td>\n",
       "    </tr>\n",
       "    <tr>\n",
       "      <td id=\"T_42276_row2_col0\" class=\"data row2 col0\" >Postdoc</td>\n",
       "      <td id=\"T_42276_row2_col1\" class=\"data row2 col1\" >DK</td>\n",
       "      <td id=\"T_42276_row2_col2\" class=\"data row2 col2\" >9.880289</td>\n",
       "    </tr>\n",
       "    <tr>\n",
       "      <td id=\"T_42276_row3_col0\" class=\"data row3 col0\" >Postdoc</td>\n",
       "      <td id=\"T_42276_row3_col1\" class=\"data row3 col1\" >GB</td>\n",
       "      <td id=\"T_42276_row3_col2\" class=\"data row3 col2\" >9.949350</td>\n",
       "    </tr>\n",
       "    <tr>\n",
       "      <td id=\"T_42276_row4_col0\" class=\"data row4 col0\" >Postdoc</td>\n",
       "      <td id=\"T_42276_row4_col1\" class=\"data row4 col1\" >US</td>\n",
       "      <td id=\"T_42276_row4_col2\" class=\"data row4 col2\" >10.366486</td>\n",
       "    </tr>\n",
       "    <tr>\n",
       "      <td id=\"T_42276_row5_col0\" class=\"data row5 col0\" >PhDstudent</td>\n",
       "      <td id=\"T_42276_row5_col1\" class=\"data row5 col1\" >DK</td>\n",
       "      <td id=\"T_42276_row5_col2\" class=\"data row5 col2\" >10.608510</td>\n",
       "    </tr>\n",
       "    <tr>\n",
       "      <td id=\"T_42276_row6_col0\" class=\"data row6 col0\" >PhDstudent</td>\n",
       "      <td id=\"T_42276_row6_col1\" class=\"data row6 col1\" >CH</td>\n",
       "      <td id=\"T_42276_row6_col2\" class=\"data row6 col2\" >10.751572</td>\n",
       "    </tr>\n",
       "    <tr>\n",
       "      <td id=\"T_42276_row7_col0\" class=\"data row7 col0\" >Postdoc</td>\n",
       "      <td id=\"T_42276_row7_col1\" class=\"data row7 col1\" >NL</td>\n",
       "      <td id=\"T_42276_row7_col2\" class=\"data row7 col2\" >11.244057</td>\n",
       "    </tr>\n",
       "    <tr>\n",
       "      <td id=\"T_42276_row8_col0\" class=\"data row8 col0\" >PhDstudent</td>\n",
       "      <td id=\"T_42276_row8_col1\" class=\"data row8 col1\" >UK</td>\n",
       "      <td id=\"T_42276_row8_col2\" class=\"data row8 col2\" >11.322927</td>\n",
       "    </tr>\n",
       "    <tr>\n",
       "      <td id=\"T_42276_row9_col0\" class=\"data row9 col0\" >Professor</td>\n",
       "      <td id=\"T_42276_row9_col1\" class=\"data row9 col1\" >DK</td>\n",
       "      <td id=\"T_42276_row9_col2\" class=\"data row9 col2\" >12.400968</td>\n",
       "    </tr>\n",
       "  </tbody>\n",
       "</table>\n"
      ],
      "text/plain": [
       "<pandas.io.formats.style.Styler at 0x126e92d50>"
      ]
     },
     "execution_count": 12,
     "metadata": {},
     "output_type": "execute_result"
    }
   ],
   "source": [
    "#| label: tbl-meaninformality\n",
    "#| tbl-cap: \"Mean interaction scores by position and nationality.\"\n",
    "\n",
    "mean_informality = data.groupby(['position', 'nationality']).informality.mean().to_frame().reset_index()\n",
    "mean_informality.sort_values('informality').style.hide() # hide index"
   ]
  },
  {
   "cell_type": "code",
   "execution_count": 13,
   "metadata": {
    "execution": {
     "iopub.execute_input": "2024-11-23T17:15:39.480200Z",
     "iopub.status.busy": "2024-11-23T17:15:39.480065Z",
     "iopub.status.idle": "2024-11-23T17:15:39.605011Z",
     "shell.execute_reply": "2024-11-23T17:15:39.604597Z"
    }
   },
   "outputs": [
    {
     "data": {
      "image/png": "[encoded data removed]",
      "text/plain": [
       "<Figure size 400x300 with 1 Axes>"
      ]
     },
     "metadata": {
      "image/png": {
       "height": 286,
       "width": 428
      }
     },
     "output_type": "display_data"
    }
   ],
   "source": [
    "#| echo: false\n",
    "#| label: fig-meaninformality\n",
    "#| fig-cap: \"Mean interaction scores by position and nationality.\"\n",
    "\n",
    "plt.figure(figsize=(4,3))\n",
    "g = sns.pointplot(data=data, x='position', y='informality', hue='nationality')\n",
    "sns.move_legend(g, loc=\"upper left\", bbox_to_anchor=(1, 1), frameon=False)"
   ]
  },
  {
   "cell_type": "code",
   "execution_count": 14,
   "metadata": {
    "execution": {
     "iopub.execute_input": "2024-11-23T17:15:39.606906Z",
     "iopub.status.busy": "2024-11-23T17:15:39.606763Z",
     "iopub.status.idle": "2024-11-23T17:15:39.609830Z",
     "shell.execute_reply": "2024-11-23T17:15:39.609477Z"
    }
   },
   "outputs": [
    {
     "data": {
      "text/markdown": [
       "\n",
       "         \n",
       "The correlation between informality and age was 0.131.\n",
       "\n"
      ],
      "text/plain": [
       "<IPython.core.display.Markdown object>"
      ]
     },
     "execution_count": 14,
     "metadata": {},
     "output_type": "execute_result"
    }
   ],
   "source": [
    "#| echo: false\n",
    "#| label: doc-formality-correlation\n",
    "Markdown(f\"\"\"\n",
    "         \n",
    "The correlation between informality and age was {round(informality_age_cor, 3)}.\n",
    "\n",
    "\"\"\")"
   ]
  },
  {
   "cell_type": "code",
   "execution_count": 15,
   "metadata": {
    "execution": {
     "iopub.execute_input": "2024-11-23T17:15:39.611459Z",
     "iopub.status.busy": "2024-11-23T17:15:39.611360Z",
     "iopub.status.idle": "2024-11-23T17:15:39.846700Z",
     "shell.execute_reply": "2024-11-23T17:15:39.846280Z"
    }
   },
   "outputs": [
    {
     "data": {
      "image/png": "[encoded data removed]",
      "text/plain": [
       "<Figure size 486.325x300 with 1 Axes>"
      ]
     },
     "metadata": {
      "image/png": {
       "height": 296,
       "width": 478
      }
     },
     "output_type": "display_data"
    }
   ],
   "source": [
    "#| label: fig-danish-interaction-regressions\n",
    "#| fig-cap: \"Interaction among Danes: Regressions of informality against age for five levels of seniority.\"\n",
    "\n",
    "sns.lmplot(x='age', y='informality', data=data, hue='position', palette='viridis', height=3, aspect=4/3)\n",
    "plt.ylabel('How informal you can be')\n",
    "plt.xlabel('Age') ;"
   ]
  },
  {
   "cell_type": "code",
   "execution_count": null,
   "metadata": {},
   "outputs": [],
   "source": []
  },
  {
   "cell_type": "code",
   "execution_count": null,
   "metadata": {},
   "outputs": [],
   "source": []
  },
  {
   "cell_type": "code",
   "execution_count": null,
   "metadata": {},
   "outputs": [],
   "source": []
  }
 ],
 "metadata": {
  "kernelspec": {
   "display_name": "vanilla",
   "language": "python",
   "name": "python3"
  },
  "language_info": {
   "codemirror_mode": {
    "name": "ipython",
    "version": 3
   },
   "file_extension": ".py",
   "mimetype": "text/x-python",
   "name": "python",
   "nbconvert_exporter": "python",
   "pygments_lexer": "ipython3",
   "version": "3.12.0"
  }
 },
 "nbformat": 4,
 "nbformat_minor": 4
}
